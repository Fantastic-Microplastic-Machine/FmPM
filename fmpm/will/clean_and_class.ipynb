{
 "cells": [
  {
   "cell_type": "code",
   "execution_count": 1,
   "id": "ahead-disclosure",
   "metadata": {},
   "outputs": [],
   "source": [
    "import copy\n",
    "import random\n",
    "import time\n",
    "import os\n",
    "\n",
    "import torch\n",
    "import torch.nn as nn\n",
    "import torch.nn.functional \n",
    "import torch.optim \n",
    "import torch.utils.data\n",
    "\n",
    "import torchvision.transforms\n",
    "import torchvision.datasets\n",
    "import torch.utils.data \n",
    "import skimage.io\n",
    "import skimage.transform\n",
    "from sklearn.preprocessing import OneHotEncoder\n",
    "\n",
    "import matplotlib.pyplot as plt\n",
    "import numpy as np\n",
    "import pandas as pd"
   ]
  },
  {
   "cell_type": "code",
   "execution_count": 2,
   "id": "going-african",
   "metadata": {},
   "outputs": [],
   "source": [
    "SEED = 1234\n",
    "\n",
    "random.seed(SEED)\n",
    "np.random.seed(SEED)\n",
    "torch.manual_seed(SEED)\n",
    "torch.cuda.manual_seed(SEED)\n",
    "torch.backends.cudnn.deterministic = True"
   ]
  },
  {
   "cell_type": "markdown",
   "id": "helpful-pointer",
   "metadata": {},
   "source": [
    "# Cleaning Data"
   ]
  },
  {
   "cell_type": "code",
   "execution_count": 3,
   "id": "understanding-butterfly",
   "metadata": {},
   "outputs": [],
   "source": [
    "labels_filepath = 'data/10x_labels.csv'\n",
    "labels=pd.read_csv(labels_filepath)"
   ]
  },
  {
   "cell_type": "markdown",
   "id": "reduced-version",
   "metadata": {},
   "source": [
    "### Splitting Description column into shape and color"
   ]
  },
  {
   "cell_type": "code",
   "execution_count": 4,
   "id": "informed-surgery",
   "metadata": {},
   "outputs": [],
   "source": [
    "new= labels[\"Description\"].str.split(\" \", n = 1, expand = True)\n",
    "labels.drop(columns=['Description'],inplace=True)"
   ]
  },
  {
   "cell_type": "code",
   "execution_count": 5,
   "id": "extreme-penny",
   "metadata": {},
   "outputs": [],
   "source": [
    "labels['Color'] = new[0].values\n",
    "labels['Shape'] = new[1].values"
   ]
  },
  {
   "cell_type": "markdown",
   "id": "floral-vacuum",
   "metadata": {},
   "source": [
    "### Decomposing Sample Keywords"
   ]
  },
  {
   "cell_type": "code",
   "execution_count": 6,
   "id": "applied-chart",
   "metadata": {},
   "outputs": [],
   "source": [
    "sample_names = labels[\"Sample\"].str.split(\" \", n = 1, expand = False)\n",
    "\n",
    "sample_names_frame = pd.DataFrame(sample_names)\n",
    "\n",
    "        \n",
    "        \n",
    "labels['Sample'] = sample_names_frame"
   ]
  },
  {
   "cell_type": "markdown",
   "id": "combined-sleeping",
   "metadata": {},
   "source": [
    "### Changing Identification to boolean is or is not plastic"
   ]
  },
  {
   "cell_type": "code",
   "execution_count": 7,
   "id": "wrong-giant",
   "metadata": {},
   "outputs": [
    {
     "data": {
      "text/plain": [
       "array(['filter paper ', 'non-microplastic', 'polystyrene', 'Nylon',\n",
       "       'filter paper', 'quartz', 'carbon fiber', 'orthoclase',\n",
       "       'polypropylene', 'ink + plastic', 'PET', 'polyethylene',\n",
       "       'fluorescence'], dtype=object)"
      ]
     },
     "execution_count": 7,
     "metadata": {},
     "output_type": "execute_result"
    }
   ],
   "source": [
    "labels['Identification'].unique()"
   ]
  },
  {
   "cell_type": "code",
   "execution_count": 8,
   "id": "suffering-fishing",
   "metadata": {},
   "outputs": [
    {
     "name": "stderr",
     "output_type": "stream",
     "text": [
      "/Users/Will/opt/anaconda3/lib/python3.7/site-packages/ipykernel_launcher.py:8: SettingWithCopyWarning: \n",
      "A value is trying to be set on a copy of a slice from a DataFrame\n",
      "\n",
      "See the caveats in the documentation: https://pandas.pydata.org/pandas-docs/stable/user_guide/indexing.html#returning-a-view-versus-a-copy\n",
      "  \n",
      "/Users/Will/opt/anaconda3/lib/python3.7/site-packages/ipykernel_launcher.py:6: SettingWithCopyWarning: \n",
      "A value is trying to be set on a copy of a slice from a DataFrame\n",
      "\n",
      "See the caveats in the documentation: https://pandas.pydata.org/pandas-docs/stable/user_guide/indexing.html#returning-a-view-versus-a-copy\n",
      "  \n"
     ]
    },
    {
     "data": {
      "text/html": [
       "<div>\n",
       "<style scoped>\n",
       "    .dataframe tbody tr th:only-of-type {\n",
       "        vertical-align: middle;\n",
       "    }\n",
       "\n",
       "    .dataframe tbody tr th {\n",
       "        vertical-align: top;\n",
       "    }\n",
       "\n",
       "    .dataframe thead th {\n",
       "        text-align: right;\n",
       "    }\n",
       "</style>\n",
       "<table border=\"1\" class=\"dataframe\">\n",
       "  <thead>\n",
       "    <tr style=\"text-align: right;\">\n",
       "      <th></th>\n",
       "      <th>Sample</th>\n",
       "      <th>Sample origin</th>\n",
       "      <th>Size (um)</th>\n",
       "      <th>isPlastic</th>\n",
       "      <th>Color</th>\n",
       "      <th>Shape</th>\n",
       "    </tr>\n",
       "  </thead>\n",
       "  <tbody>\n",
       "    <tr>\n",
       "      <th>0</th>\n",
       "      <td>[252_1]</td>\n",
       "      <td>mussels</td>\n",
       "      <td>50</td>\n",
       "      <td>False</td>\n",
       "      <td>clear</td>\n",
       "      <td>irregular</td>\n",
       "    </tr>\n",
       "    <tr>\n",
       "      <th>1</th>\n",
       "      <td>[252_2]</td>\n",
       "      <td>mussels</td>\n",
       "      <td>50</td>\n",
       "      <td>False</td>\n",
       "      <td>opaque</td>\n",
       "      <td>fiber</td>\n",
       "    </tr>\n",
       "    <tr>\n",
       "      <th>2</th>\n",
       "      <td>[252_3]</td>\n",
       "      <td>mussels</td>\n",
       "      <td>25</td>\n",
       "      <td>False</td>\n",
       "      <td>opaque</td>\n",
       "      <td>spheroid</td>\n",
       "    </tr>\n",
       "    <tr>\n",
       "      <th>3</th>\n",
       "      <td>[252_4]</td>\n",
       "      <td>mussels</td>\n",
       "      <td>75</td>\n",
       "      <td>True</td>\n",
       "      <td>opaque</td>\n",
       "      <td>fragment</td>\n",
       "    </tr>\n",
       "    <tr>\n",
       "      <th>4</th>\n",
       "      <td>[252_5]</td>\n",
       "      <td>mussels</td>\n",
       "      <td>50</td>\n",
       "      <td>False</td>\n",
       "      <td>opaque</td>\n",
       "      <td>spheroid</td>\n",
       "    </tr>\n",
       "  </tbody>\n",
       "</table>\n",
       "</div>"
      ],
      "text/plain": [
       "    Sample Sample origin  Size (um) isPlastic   Color      Shape\n",
       "0  [252_1]       mussels         50     False   clear  irregular\n",
       "1  [252_2]       mussels         50     False  opaque      fiber\n",
       "2  [252_3]       mussels         25     False  opaque   spheroid\n",
       "3  [252_4]       mussels         75      True  opaque   fragment\n",
       "4  [252_5]       mussels         50     False  opaque   spheroid"
      ]
     },
     "execution_count": 8,
     "metadata": {},
     "output_type": "execute_result"
    }
   ],
   "source": [
    "plastics = ['polystyrene', 'polyethylene','polypropylene','Nylon','ink + plastic','PET','carbon fiber']\n",
    "identification = labels['Identification']\n",
    "\n",
    "for i in range(0,len(identification)):\n",
    "    if identification[i] in plastics:\n",
    "        identification[i] = True\n",
    "    else:\n",
    "        identification[i] = False\n",
    "    \n",
    "labels['Identification']=identification\n",
    "labels.rename(columns={'Identification': 'isPlastic'}, inplace=True)\n",
    "labels.head(5)"
   ]
  },
  {
   "cell_type": "markdown",
   "id": "entire-bundle",
   "metadata": {},
   "source": [
    "### Shape/isPlastic/Color Encoding"
   ]
  },
  {
   "cell_type": "code",
   "execution_count": 9,
   "id": "arbitrary-fluid",
   "metadata": {},
   "outputs": [],
   "source": [
    "labels['isPlastic'] = labels[\"isPlastic\"].astype(int)"
   ]
  },
  {
   "cell_type": "code",
   "execution_count": 10,
   "id": "streaming-marijuana",
   "metadata": {},
   "outputs": [
    {
     "data": {
      "text/plain": [
       "array(['clear', 'opaque', 'white', 'dark', 'blue'], dtype=object)"
      ]
     },
     "execution_count": 10,
     "metadata": {},
     "output_type": "execute_result"
    }
   ],
   "source": [
    "labels['Color'].unique()"
   ]
  },
  {
   "cell_type": "code",
   "execution_count": 11,
   "id": "wired-float",
   "metadata": {},
   "outputs": [],
   "source": [
    "shape_encoder = OneHotEncoder()"
   ]
  },
  {
   "cell_type": "code",
   "execution_count": 12,
   "id": "forward-granny",
   "metadata": {},
   "outputs": [],
   "source": [
    "shape_encoder.fit_transform(labels[['Shape']]).toarray();"
   ]
  },
  {
   "cell_type": "code",
   "execution_count": 13,
   "id": "finite-choir",
   "metadata": {},
   "outputs": [
    {
     "data": {
      "text/plain": [
       "array(['x0_fiber', 'x0_fragment', 'x0_irregular', 'x0_shard',\n",
       "       'x0_spheroid'], dtype=object)"
      ]
     },
     "execution_count": 13,
     "metadata": {},
     "output_type": "execute_result"
    }
   ],
   "source": [
    "shape_encoder.get_feature_names()"
   ]
  },
  {
   "cell_type": "code",
   "execution_count": 14,
   "id": "supported-receiver",
   "metadata": {},
   "outputs": [],
   "source": [
    "color_encoder = OneHotEncoder()\n",
    "shape_encoder.fit_transform(labels[['Color']]).toarray();"
   ]
  },
  {
   "cell_type": "code",
   "execution_count": 15,
   "id": "charitable-louisville",
   "metadata": {},
   "outputs": [
    {
     "data": {
      "text/html": [
       "<div>\n",
       "<style scoped>\n",
       "    .dataframe tbody tr th:only-of-type {\n",
       "        vertical-align: middle;\n",
       "    }\n",
       "\n",
       "    .dataframe tbody tr th {\n",
       "        vertical-align: top;\n",
       "    }\n",
       "\n",
       "    .dataframe thead th {\n",
       "        text-align: right;\n",
       "    }\n",
       "</style>\n",
       "<table border=\"1\" class=\"dataframe\">\n",
       "  <thead>\n",
       "    <tr style=\"text-align: right;\">\n",
       "      <th></th>\n",
       "      <th>Sample</th>\n",
       "      <th>Sample origin</th>\n",
       "      <th>Size (um)</th>\n",
       "      <th>isPlastic</th>\n",
       "      <th>Color</th>\n",
       "      <th>Shape</th>\n",
       "    </tr>\n",
       "  </thead>\n",
       "  <tbody>\n",
       "    <tr>\n",
       "      <th>0</th>\n",
       "      <td>[252_1]</td>\n",
       "      <td>mussels</td>\n",
       "      <td>50</td>\n",
       "      <td>0</td>\n",
       "      <td>clear</td>\n",
       "      <td>irregular</td>\n",
       "    </tr>\n",
       "    <tr>\n",
       "      <th>1</th>\n",
       "      <td>[252_2]</td>\n",
       "      <td>mussels</td>\n",
       "      <td>50</td>\n",
       "      <td>0</td>\n",
       "      <td>opaque</td>\n",
       "      <td>fiber</td>\n",
       "    </tr>\n",
       "    <tr>\n",
       "      <th>2</th>\n",
       "      <td>[252_3]</td>\n",
       "      <td>mussels</td>\n",
       "      <td>25</td>\n",
       "      <td>0</td>\n",
       "      <td>opaque</td>\n",
       "      <td>spheroid</td>\n",
       "    </tr>\n",
       "  </tbody>\n",
       "</table>\n",
       "</div>"
      ],
      "text/plain": [
       "    Sample Sample origin  Size (um)  isPlastic   Color      Shape\n",
       "0  [252_1]       mussels         50          0   clear  irregular\n",
       "1  [252_2]       mussels         50          0  opaque      fiber\n",
       "2  [252_3]       mussels         25          0  opaque   spheroid"
      ]
     },
     "execution_count": 15,
     "metadata": {},
     "output_type": "execute_result"
    }
   ],
   "source": [
    "labels.head(3)"
   ]
  },
  {
   "cell_type": "markdown",
   "id": "nutritional-bandwidth",
   "metadata": {},
   "source": [
    "# Custom Dataset"
   ]
  },
  {
   "cell_type": "code",
   "execution_count": 16,
   "id": "magnetic-daughter",
   "metadata": {},
   "outputs": [],
   "source": [
    "class tenX_dataset(torch.utils.data.Dataset):\n",
    "    \"\"\"\"\"\"\n",
    "    \n",
    "    #Initializes dataset. Is only used once during the creating on a 'tenX_dataset' class\n",
    "    #transform is an optional parameter, it defaults to none if nothing is passed into the class\n",
    "    def __init__(self, labels_frame, image_dir, transform):\n",
    "        'Initialization'\n",
    "        self.labels = labels_frame\n",
    "        self.image_dir = image_dir\n",
    "        self.image_filenames = os.listdir(self.image_dir)\n",
    "        self.transform = transform\n",
    "        \n",
    "    #Length of dataset\n",
    "    def __len__(self):\n",
    "        return len(self.labels)\n",
    "    \n",
    "    #Return an single image with labels based on given index\n",
    "    def __getitem__(self, idx):\n",
    "        print('getitem')\n",
    "        image_id = self.labels['Sample'][idx]\n",
    "        image_file = None\n",
    "        image = None\n",
    "        \n",
    "        for filename in self.image_filenames:\n",
    "            if len(image_id) == 1:\n",
    "                if image_id[0] in filename:\n",
    "                    #print(image_id)\n",
    "                    image_file = filename\n",
    "                    break\n",
    "            else:\n",
    "                if image_id[0] in filename and image_id[1] in filename:\n",
    "                    #print(image_id)\n",
    "                    image_file = filename\n",
    "                    break\n",
    "                \n",
    "        if not image_file:\n",
    "            #raise Exception('Could not find image file')\n",
    "            image_file = self.image_filenames[0]\n",
    "            image_filepath = os.path.join(self.image_dir, image_file)\n",
    "            image = skimage.io.imread(image_filepath)\n",
    "   \n",
    "        else:\n",
    "            image_filepath = os.path.join(self.image_dir, image_file)\n",
    "            image = skimage.io.imread(image_filepath)\n",
    "\n",
    "            #sample = {'image': image,\n",
    "                    #'shape': self.labels['Shape'][idx],\n",
    "                    #'color': self.labels['Color'][idx],\n",
    "                    #'plastic': self.labels['isPlastic'][idx]}\n",
    "\n",
    "                    \n",
    "        sample = {'image': image, 'plastic': self.labels['isPlastic'][idx]}\n",
    "\n",
    "        #This 'transform' will be where we specify how we edit the images (resize, \n",
    "        #change file type, data augmentation). It is defined outside this classs.\n",
    "        if self.transform is not None:\n",
    "            sample['image'] = self.transform(sample['image'])\n",
    "        return sample"
   ]
  },
  {
   "cell_type": "code",
   "execution_count": 17,
   "id": "solved-endorsement",
   "metadata": {},
   "outputs": [],
   "source": [
    "image_dir = 'data/images_10x'\n",
    "labels_frame = labels\n",
    "\n",
    "\n",
    "\n",
    "tenX = tenX_dataset(labels_frame, image_dir,None)"
   ]
  },
  {
   "cell_type": "code",
   "execution_count": 18,
   "id": "senior-illustration",
   "metadata": {},
   "outputs": [
    {
     "name": "stdout",
     "output_type": "stream",
     "text": [
      "getitem\n",
      "getitem\n",
      "getitem\n",
      "getitem\n",
      "getitem\n",
      "getitem\n",
      "getitem\n",
      "getitem\n",
      "getitem\n",
      "getitem\n",
      "getitem\n",
      "getitem\n"
     ]
    }
   ],
   "source": [
    "samples=[]\n",
    "for i in range(len(tenX)):\n",
    "    sample = tenX[i]\n",
    "    samples.append(sample['image'])\n",
    "    if i>10:\n",
    "        break\n",
    "\n",
    "#samples\n",
    "#samples"
   ]
  },
  {
   "cell_type": "code",
   "execution_count": 19,
   "id": "received-alloy",
   "metadata": {},
   "outputs": [],
   "source": [
    "count = 0\n",
    "for im in samples:\n",
    "    if type(im) != type(None):\n",
    "        #plt.figure(count)\n",
    "        #plt.imshow(im)\n",
    "        count+=1"
   ]
  },
  {
   "cell_type": "code",
   "execution_count": 20,
   "id": "obvious-mandate",
   "metadata": {},
   "outputs": [
    {
     "name": "stdout",
     "output_type": "stream",
     "text": [
      "(480, 752, 3)\n"
     ]
    },
    {
     "data": {
      "image/png": "[encoded data removed]",
      "text/plain": [
       "<Figure size 432x288 with 1 Axes>"
      ]
     },
     "metadata": {
      "needs_background": "light"
     },
     "output_type": "display_data"
    }
   ],
   "source": [
    "plt.imshow(samples[5])\n",
    "print(np.shape(samples[5]))"
   ]
  },
  {
   "cell_type": "code",
   "execution_count": null,
   "id": "hungarian-scout",
   "metadata": {},
   "outputs": [],
   "source": []
  },
  {
   "cell_type": "code",
   "execution_count": null,
   "id": "clean-greene",
   "metadata": {},
   "outputs": [],
   "source": []
  },
  {
   "cell_type": "markdown",
   "id": "dying-european",
   "metadata": {},
   "source": [
    "# Things to improve/fix\n",
    "* if data is for sure consistent. Take datacleaning steps, generalize, and put into a function. Then 10x_dataset class with get passed in the filename of the labels and in the init method the dataclean function should be called.\n",
    "* Verify the labels are coming through (i.e. train some sort of model on this data\n",
    "* Make sure the nonetypes are because the file actually isn't in my folder of images\n",
    "* 252_1 is displayign 252_10 because of way code is written. \n",
    "* One hot encode categorical data"
   ]
  },
  {
   "cell_type": "code",
   "execution_count": 21,
   "id": "korean-password",
   "metadata": {},
   "outputs": [],
   "source": [
    "def get_mean_of_dataset(image_dataset):\n",
    "    \"\"\"\"\"\"\n",
    "    "
   ]
  },
  {
   "cell_type": "code",
   "execution_count": 22,
   "id": "diagnostic-transcript",
   "metadata": {},
   "outputs": [],
   "source": [
    "def get_std_of_dataset(image_dataset):\n",
    "    \"\"\"\"\"\""
   ]
  },
  {
   "cell_type": "code",
   "execution_count": 23,
   "id": "exposed-invasion",
   "metadata": {},
   "outputs": [],
   "source": [
    "def clean_labels(label_frame):\n",
    "    \"\"\"\"\"\""
   ]
  },
  {
   "cell_type": "markdown",
   "id": "australian-organizer",
   "metadata": {},
   "source": [
    "# Start of me trying to plug into cnn"
   ]
  },
  {
   "cell_type": "code",
   "execution_count": 24,
   "id": "anticipated-helen",
   "metadata": {},
   "outputs": [],
   "source": [
    "image_dir = 'data/images_10x'\n",
    "labels_frame = labels\n",
    "transform = torchvision.transforms.Compose([\n",
    "                            torchvision.transforms.ToPILImage(),\n",
    "                            torchvision.transforms.Resize((480, 752)),\n",
    "                            torchvision.transforms.ToTensor()\n",
    "                                      ])\n",
    "\n",
    "\n",
    "train_data = tenX_dataset(labels_frame, image_dir, transform = transform)"
   ]
  },
  {
   "cell_type": "code",
   "execution_count": 25,
   "id": "downtown-dayton",
   "metadata": {},
   "outputs": [
    {
     "data": {
      "text/plain": [
       "\"samples=[]\\nfor i in range(len(tenX)):\\n    sample = tenX[i]\\n    samples.append(sample['image'])\\n    if i>10:\\n        break\\n\\ncount = 0\\nfor im in samples:\\n    if type(im) != type(None):\\n        #plt.figure(count)\\n        #plt.imshow(im)\\n        print(np.shape(im))\\n        print(np.shape(transform(im)))\\n        count+=1\""
      ]
     },
     "execution_count": 25,
     "metadata": {},
     "output_type": "execute_result"
    }
   ],
   "source": [
    "'''samples=[]\n",
    "for i in range(len(tenX)):\n",
    "    sample = tenX[i]\n",
    "    samples.append(sample['image'])\n",
    "    if i>10:\n",
    "        break\n",
    "\n",
    "count = 0\n",
    "for im in samples:\n",
    "    if type(im) != type(None):\n",
    "        #plt.figure(count)\n",
    "        #plt.imshow(im)\n",
    "        print(np.shape(im))\n",
    "        print(np.shape(transform(im)))\n",
    "        count+=1'''"
   ]
  },
  {
   "cell_type": "code",
   "execution_count": 26,
   "id": "inappropriate-victory",
   "metadata": {},
   "outputs": [],
   "source": [
    "VALID_RATIO = 0.9\n",
    "\n",
    "n_train_examples = int(len(train_data) * VALID_RATIO)\n",
    "n_valid_examples = len(train_data) - n_train_examples\n",
    "\n",
    "train_data, valid_data = torch.utils.data.random_split(train_data, \n",
    "                                           [n_train_examples, n_valid_examples])"
   ]
  },
  {
   "cell_type": "code",
   "execution_count": 27,
   "id": "sunrise-peace",
   "metadata": {},
   "outputs": [
    {
     "name": "stdout",
     "output_type": "stream",
     "text": [
      "Number of training examples: 56\n",
      "Number of validation examples: 7\n"
     ]
    }
   ],
   "source": [
    "print(f'Number of training examples: {len(train_data)}')\n",
    "print(f'Number of validation examples: {len(valid_data)}')"
   ]
  },
  {
   "cell_type": "code",
   "execution_count": 28,
   "id": "related-locator",
   "metadata": {},
   "outputs": [],
   "source": [
    "BATCH_SIZE = 6\n",
    "\n",
    "train_iterator = torch.utils.data.DataLoader(train_data, \n",
    "                                 shuffle = True, \n",
    "                                 batch_size = BATCH_SIZE)\n",
    "\n",
    "valid_iterator = torch.utils.data.DataLoader(valid_data, \n",
    "                                 batch_size = BATCH_SIZE)"
   ]
  },
  {
   "cell_type": "code",
   "execution_count": 76,
   "id": "vulnerable-shopping",
   "metadata": {},
   "outputs": [],
   "source": [
    "class LeNet(nn.Module):\n",
    "    def __init__(self, output_dim):\n",
    "        super().__init__()\n",
    "\n",
    "        self.conv1 = nn.Conv2d(in_channels = 3, \n",
    "                               out_channels = 8, \n",
    "                               kernel_size = 5)\n",
    "        \n",
    "        self.conv2 = nn.Conv2d(in_channels = 8, \n",
    "                               out_channels = 12, \n",
    "                               kernel_size = 5)\n",
    "        \n",
    "        self.fc_1 = nn.Linear(6, 259740)\n",
    "        self.fc_2 = nn.Linear(259740, 4329)\n",
    "        self.fc_3 = nn.Linear(4329, output_dim)\n",
    "\n",
    "    def forward(self, x):\n",
    "\n",
    "        #x = [batch size, 1, 28, 28]\n",
    "        \n",
    "        x = self.conv1(x)\n",
    "        \n",
    "        #x = [batch size, 6, 24, 24]\n",
    "        \n",
    "        x = nn.functional.max_pool2d(x, kernel_size = 2)\n",
    "        \n",
    "        #x = [batch size, 6, 12, 12]\n",
    "        \n",
    "        x = nn.functional.relu(x)\n",
    "        \n",
    "        x = self.conv2(x)\n",
    "        \n",
    "        #x = [batch size, 16, 8, 8]\n",
    "        \n",
    "        x = nn.functional.max_pool2d(x, kernel_size = 2)\n",
    "        \n",
    "        #x = [batch size, 16, 4, 4]\n",
    "        \n",
    "        x = nn.functional.relu(x)\n",
    "        \n",
    "        x = x.view(x.shape[0], -1)\n",
    "        \n",
    "        #x = [batch size, 16*4*4 = 256]\n",
    "        \n",
    "        h = x\n",
    "        \n",
    "        x = self.fc_1(x)\n",
    "        \n",
    "        #x = [batch size, 120]\n",
    "        \n",
    "        x = nn.functional.relu(x)\n",
    "\n",
    "        x = self.fc_2(x)\n",
    "        \n",
    "        #x = batch size, 84]\n",
    "        \n",
    "        x = nn.functional.relu(x)\n",
    "\n",
    "        x = self.fc_3(x)\n",
    "\n",
    "        #x = [batch size, output dim]\n",
    "        \n",
    "        return x, h"
   ]
  },
  {
   "cell_type": "code",
   "execution_count": 77,
   "id": "greater-gambling",
   "metadata": {},
   "outputs": [],
   "source": [
    "OUTPUT_DIM = 1\n",
    "model = LeNet(OUTPUT_DIM)\n",
    "\n",
    "\n",
    "criterion = nn.CrossEntropyLoss()\n",
    "device = torch.device('cuda' if torch.cuda.is_available() else 'cpu')\n",
    "optimizer = torch.optim.Adam(model.parameters())"
   ]
  },
  {
   "cell_type": "code",
   "execution_count": 78,
   "id": "sudden-cisco",
   "metadata": {},
   "outputs": [],
   "source": [
    "model = model.to(device)\n",
    "criterion = criterion.to(device)"
   ]
  },
  {
   "cell_type": "code",
   "execution_count": 79,
   "id": "smoking-pacific",
   "metadata": {},
   "outputs": [],
   "source": [
    "def calculate_accuracy(y_pred, y):\n",
    "    top_pred = y_pred.argmax(1, keepdim = True)\n",
    "    correct = top_pred.eq(y.view_as(top_pred)).sum()\n",
    "    acc = correct.float() / y.shape[0]\n",
    "    return acc"
   ]
  },
  {
   "cell_type": "code",
   "execution_count": 80,
   "id": "living-letters",
   "metadata": {},
   "outputs": [],
   "source": [
    "def train(model, iterator, optimizer, criterion, device):\n",
    "    \n",
    "    epoch_loss = 0\n",
    "    epoch_acc = 0\n",
    "    \n",
    "    model.train()\n",
    "    \n",
    "    for sample in iterator:\n",
    "        image = sample['image'].to(device)\n",
    "        isPlastic = sample['plastic'].to(device)\n",
    "        \n",
    "        optimizer.zero_grad()\n",
    "                \n",
    "        y_pred, _ = model(image)\n",
    "        \n",
    "        loss = criterion(y_pred, isPlastic)\n",
    "        \n",
    "        acc = calculate_accuracy(y_pred, isPlastic)\n",
    "        \n",
    "        loss.backward()\n",
    "        \n",
    "        optimizer.step()\n",
    "        \n",
    "        epoch_loss += loss.item()\n",
    "        epoch_acc += acc.item()\n",
    "        \n",
    "    return epoch_loss / len(iterator), epoch_acc / len(iterator)"
   ]
  },
  {
   "cell_type": "code",
   "execution_count": 81,
   "id": "utility-uncertainty",
   "metadata": {},
   "outputs": [
    {
     "name": "stdout",
     "output_type": "stream",
     "text": [
      "getitem\n",
      "getitem\n",
      "getitem\n",
      "getitem\n",
      "getitem\n",
      "getitem\n"
     ]
    },
    {
     "ename": "RuntimeError",
     "evalue": "size mismatch, m1: [6 x 6], m2: [259740 x 4329] at /tmp/pip-req-build-9oilk29k/aten/src/TH/generic/THTensorMath.cpp:197",
     "output_type": "error",
     "traceback": [
      "\u001b[0;31m---------------------------------------------------------------------------\u001b[0m",
      "\u001b[0;31mRuntimeError\u001b[0m                              Traceback (most recent call last)",
      "\u001b[0;32m<ipython-input-81-9d34df157b38>\u001b[0m in \u001b[0;36m<module>\u001b[0;34m\u001b[0m\n\u001b[1;32m      7\u001b[0m     \u001b[0mstart_time\u001b[0m \u001b[0;34m=\u001b[0m \u001b[0mtime\u001b[0m\u001b[0;34m.\u001b[0m\u001b[0mmonotonic\u001b[0m\u001b[0;34m(\u001b[0m\u001b[0;34m)\u001b[0m\u001b[0;34m\u001b[0m\u001b[0;34m\u001b[0m\u001b[0m\n\u001b[1;32m      8\u001b[0m \u001b[0;34m\u001b[0m\u001b[0m\n\u001b[0;32m----> 9\u001b[0;31m     \u001b[0mtrain_loss\u001b[0m\u001b[0;34m,\u001b[0m \u001b[0mtrain_acc\u001b[0m \u001b[0;34m=\u001b[0m \u001b[0mtrain\u001b[0m\u001b[0;34m(\u001b[0m\u001b[0mmodel\u001b[0m\u001b[0;34m,\u001b[0m \u001b[0mtrain_iterator\u001b[0m\u001b[0;34m,\u001b[0m \u001b[0moptimizer\u001b[0m\u001b[0;34m,\u001b[0m \u001b[0mcriterion\u001b[0m\u001b[0;34m,\u001b[0m \u001b[0mdevice\u001b[0m\u001b[0;34m)\u001b[0m\u001b[0;34m\u001b[0m\u001b[0;34m\u001b[0m\u001b[0m\n\u001b[0m\u001b[1;32m     10\u001b[0m \u001b[0;34m\u001b[0m\u001b[0m\n\u001b[1;32m     11\u001b[0m \u001b[0;34m\u001b[0m\u001b[0m\n",
      "\u001b[0;32m<ipython-input-80-e5350dc08d2a>\u001b[0m in \u001b[0;36mtrain\u001b[0;34m(model, iterator, optimizer, criterion, device)\u001b[0m\n\u001b[1;32m     12\u001b[0m         \u001b[0moptimizer\u001b[0m\u001b[0;34m.\u001b[0m\u001b[0mzero_grad\u001b[0m\u001b[0;34m(\u001b[0m\u001b[0;34m)\u001b[0m\u001b[0;34m\u001b[0m\u001b[0;34m\u001b[0m\u001b[0m\n\u001b[1;32m     13\u001b[0m \u001b[0;34m\u001b[0m\u001b[0m\n\u001b[0;32m---> 14\u001b[0;31m         \u001b[0my_pred\u001b[0m\u001b[0;34m,\u001b[0m \u001b[0m_\u001b[0m \u001b[0;34m=\u001b[0m \u001b[0mmodel\u001b[0m\u001b[0;34m(\u001b[0m\u001b[0mimage\u001b[0m\u001b[0;34m)\u001b[0m\u001b[0;34m\u001b[0m\u001b[0;34m\u001b[0m\u001b[0m\n\u001b[0m\u001b[1;32m     15\u001b[0m \u001b[0;34m\u001b[0m\u001b[0m\n\u001b[1;32m     16\u001b[0m         \u001b[0mloss\u001b[0m \u001b[0;34m=\u001b[0m \u001b[0mcriterion\u001b[0m\u001b[0;34m(\u001b[0m\u001b[0my_pred\u001b[0m\u001b[0;34m,\u001b[0m \u001b[0misPlastic\u001b[0m\u001b[0;34m)\u001b[0m\u001b[0;34m\u001b[0m\u001b[0;34m\u001b[0m\u001b[0m\n",
      "\u001b[0;32m~/opt/anaconda3/lib/python3.7/site-packages/torch/nn/modules/module.py\u001b[0m in \u001b[0;36m__call__\u001b[0;34m(self, *input, **kwargs)\u001b[0m\n\u001b[1;32m    539\u001b[0m             \u001b[0mresult\u001b[0m \u001b[0;34m=\u001b[0m \u001b[0mself\u001b[0m\u001b[0;34m.\u001b[0m\u001b[0m_slow_forward\u001b[0m\u001b[0;34m(\u001b[0m\u001b[0;34m*\u001b[0m\u001b[0minput\u001b[0m\u001b[0;34m,\u001b[0m \u001b[0;34m**\u001b[0m\u001b[0mkwargs\u001b[0m\u001b[0;34m)\u001b[0m\u001b[0;34m\u001b[0m\u001b[0;34m\u001b[0m\u001b[0m\n\u001b[1;32m    540\u001b[0m         \u001b[0;32melse\u001b[0m\u001b[0;34m:\u001b[0m\u001b[0;34m\u001b[0m\u001b[0;34m\u001b[0m\u001b[0m\n\u001b[0;32m--> 541\u001b[0;31m             \u001b[0mresult\u001b[0m \u001b[0;34m=\u001b[0m \u001b[0mself\u001b[0m\u001b[0;34m.\u001b[0m\u001b[0mforward\u001b[0m\u001b[0;34m(\u001b[0m\u001b[0;34m*\u001b[0m\u001b[0minput\u001b[0m\u001b[0;34m,\u001b[0m \u001b[0;34m**\u001b[0m\u001b[0mkwargs\u001b[0m\u001b[0;34m)\u001b[0m\u001b[0;34m\u001b[0m\u001b[0;34m\u001b[0m\u001b[0m\n\u001b[0m\u001b[1;32m    542\u001b[0m         \u001b[0;32mfor\u001b[0m \u001b[0mhook\u001b[0m \u001b[0;32min\u001b[0m \u001b[0mself\u001b[0m\u001b[0;34m.\u001b[0m\u001b[0m_forward_hooks\u001b[0m\u001b[0;34m.\u001b[0m\u001b[0mvalues\u001b[0m\u001b[0;34m(\u001b[0m\u001b[0;34m)\u001b[0m\u001b[0;34m:\u001b[0m\u001b[0;34m\u001b[0m\u001b[0;34m\u001b[0m\u001b[0m\n\u001b[1;32m    543\u001b[0m             \u001b[0mhook_result\u001b[0m \u001b[0;34m=\u001b[0m \u001b[0mhook\u001b[0m\u001b[0;34m(\u001b[0m\u001b[0mself\u001b[0m\u001b[0;34m,\u001b[0m \u001b[0minput\u001b[0m\u001b[0;34m,\u001b[0m \u001b[0mresult\u001b[0m\u001b[0;34m)\u001b[0m\u001b[0;34m\u001b[0m\u001b[0;34m\u001b[0m\u001b[0m\n",
      "\u001b[0;32m<ipython-input-76-addf5bf9ae61>\u001b[0m in \u001b[0;36mforward\u001b[0;34m(self, x)\u001b[0m\n\u001b[1;32m     51\u001b[0m         \u001b[0mx\u001b[0m \u001b[0;34m=\u001b[0m \u001b[0mnn\u001b[0m\u001b[0;34m.\u001b[0m\u001b[0mfunctional\u001b[0m\u001b[0;34m.\u001b[0m\u001b[0mrelu\u001b[0m\u001b[0;34m(\u001b[0m\u001b[0mx\u001b[0m\u001b[0;34m)\u001b[0m\u001b[0;34m\u001b[0m\u001b[0;34m\u001b[0m\u001b[0m\n\u001b[1;32m     52\u001b[0m \u001b[0;34m\u001b[0m\u001b[0m\n\u001b[0;32m---> 53\u001b[0;31m         \u001b[0mx\u001b[0m \u001b[0;34m=\u001b[0m \u001b[0mself\u001b[0m\u001b[0;34m.\u001b[0m\u001b[0mfc_2\u001b[0m\u001b[0;34m(\u001b[0m\u001b[0mx\u001b[0m\u001b[0;34m)\u001b[0m\u001b[0;34m\u001b[0m\u001b[0;34m\u001b[0m\u001b[0m\n\u001b[0m\u001b[1;32m     54\u001b[0m \u001b[0;34m\u001b[0m\u001b[0m\n\u001b[1;32m     55\u001b[0m         \u001b[0;31m#x = batch size, 84]\u001b[0m\u001b[0;34m\u001b[0m\u001b[0;34m\u001b[0m\u001b[0;34m\u001b[0m\u001b[0m\n",
      "\u001b[0;32m~/opt/anaconda3/lib/python3.7/site-packages/torch/nn/modules/module.py\u001b[0m in \u001b[0;36m__call__\u001b[0;34m(self, *input, **kwargs)\u001b[0m\n\u001b[1;32m    539\u001b[0m             \u001b[0mresult\u001b[0m \u001b[0;34m=\u001b[0m \u001b[0mself\u001b[0m\u001b[0;34m.\u001b[0m\u001b[0m_slow_forward\u001b[0m\u001b[0;34m(\u001b[0m\u001b[0;34m*\u001b[0m\u001b[0minput\u001b[0m\u001b[0;34m,\u001b[0m \u001b[0;34m**\u001b[0m\u001b[0mkwargs\u001b[0m\u001b[0;34m)\u001b[0m\u001b[0;34m\u001b[0m\u001b[0;34m\u001b[0m\u001b[0m\n\u001b[1;32m    540\u001b[0m         \u001b[0;32melse\u001b[0m\u001b[0;34m:\u001b[0m\u001b[0;34m\u001b[0m\u001b[0;34m\u001b[0m\u001b[0m\n\u001b[0;32m--> 541\u001b[0;31m             \u001b[0mresult\u001b[0m \u001b[0;34m=\u001b[0m \u001b[0mself\u001b[0m\u001b[0;34m.\u001b[0m\u001b[0mforward\u001b[0m\u001b[0;34m(\u001b[0m\u001b[0;34m*\u001b[0m\u001b[0minput\u001b[0m\u001b[0;34m,\u001b[0m \u001b[0;34m**\u001b[0m\u001b[0mkwargs\u001b[0m\u001b[0;34m)\u001b[0m\u001b[0;34m\u001b[0m\u001b[0;34m\u001b[0m\u001b[0m\n\u001b[0m\u001b[1;32m    542\u001b[0m         \u001b[0;32mfor\u001b[0m \u001b[0mhook\u001b[0m \u001b[0;32min\u001b[0m \u001b[0mself\u001b[0m\u001b[0;34m.\u001b[0m\u001b[0m_forward_hooks\u001b[0m\u001b[0;34m.\u001b[0m\u001b[0mvalues\u001b[0m\u001b[0;34m(\u001b[0m\u001b[0;34m)\u001b[0m\u001b[0;34m:\u001b[0m\u001b[0;34m\u001b[0m\u001b[0;34m\u001b[0m\u001b[0m\n\u001b[1;32m    543\u001b[0m             \u001b[0mhook_result\u001b[0m \u001b[0;34m=\u001b[0m \u001b[0mhook\u001b[0m\u001b[0;34m(\u001b[0m\u001b[0mself\u001b[0m\u001b[0;34m,\u001b[0m \u001b[0minput\u001b[0m\u001b[0;34m,\u001b[0m \u001b[0mresult\u001b[0m\u001b[0;34m)\u001b[0m\u001b[0;34m\u001b[0m\u001b[0;34m\u001b[0m\u001b[0m\n",
      "\u001b[0;32m~/opt/anaconda3/lib/python3.7/site-packages/torch/nn/modules/linear.py\u001b[0m in \u001b[0;36mforward\u001b[0;34m(self, input)\u001b[0m\n\u001b[1;32m     85\u001b[0m \u001b[0;34m\u001b[0m\u001b[0m\n\u001b[1;32m     86\u001b[0m     \u001b[0;32mdef\u001b[0m \u001b[0mforward\u001b[0m\u001b[0;34m(\u001b[0m\u001b[0mself\u001b[0m\u001b[0;34m,\u001b[0m \u001b[0minput\u001b[0m\u001b[0;34m)\u001b[0m\u001b[0;34m:\u001b[0m\u001b[0;34m\u001b[0m\u001b[0;34m\u001b[0m\u001b[0m\n\u001b[0;32m---> 87\u001b[0;31m         \u001b[0;32mreturn\u001b[0m \u001b[0mF\u001b[0m\u001b[0;34m.\u001b[0m\u001b[0mlinear\u001b[0m\u001b[0;34m(\u001b[0m\u001b[0minput\u001b[0m\u001b[0;34m,\u001b[0m \u001b[0mself\u001b[0m\u001b[0;34m.\u001b[0m\u001b[0mweight\u001b[0m\u001b[0;34m,\u001b[0m \u001b[0mself\u001b[0m\u001b[0;34m.\u001b[0m\u001b[0mbias\u001b[0m\u001b[0;34m)\u001b[0m\u001b[0;34m\u001b[0m\u001b[0;34m\u001b[0m\u001b[0m\n\u001b[0m\u001b[1;32m     88\u001b[0m \u001b[0;34m\u001b[0m\u001b[0m\n\u001b[1;32m     89\u001b[0m     \u001b[0;32mdef\u001b[0m \u001b[0mextra_repr\u001b[0m\u001b[0;34m(\u001b[0m\u001b[0mself\u001b[0m\u001b[0;34m)\u001b[0m\u001b[0;34m:\u001b[0m\u001b[0;34m\u001b[0m\u001b[0;34m\u001b[0m\u001b[0m\n",
      "\u001b[0;32m~/opt/anaconda3/lib/python3.7/site-packages/torch/nn/functional.py\u001b[0m in \u001b[0;36mlinear\u001b[0;34m(input, weight, bias)\u001b[0m\n\u001b[1;32m   1368\u001b[0m     \u001b[0;32mif\u001b[0m \u001b[0minput\u001b[0m\u001b[0;34m.\u001b[0m\u001b[0mdim\u001b[0m\u001b[0;34m(\u001b[0m\u001b[0;34m)\u001b[0m \u001b[0;34m==\u001b[0m \u001b[0;36m2\u001b[0m \u001b[0;32mand\u001b[0m \u001b[0mbias\u001b[0m \u001b[0;32mis\u001b[0m \u001b[0;32mnot\u001b[0m \u001b[0;32mNone\u001b[0m\u001b[0;34m:\u001b[0m\u001b[0;34m\u001b[0m\u001b[0;34m\u001b[0m\u001b[0m\n\u001b[1;32m   1369\u001b[0m         \u001b[0;31m# fused op is marginally faster\u001b[0m\u001b[0;34m\u001b[0m\u001b[0;34m\u001b[0m\u001b[0;34m\u001b[0m\u001b[0m\n\u001b[0;32m-> 1370\u001b[0;31m         \u001b[0mret\u001b[0m \u001b[0;34m=\u001b[0m \u001b[0mtorch\u001b[0m\u001b[0;34m.\u001b[0m\u001b[0maddmm\u001b[0m\u001b[0;34m(\u001b[0m\u001b[0mbias\u001b[0m\u001b[0;34m,\u001b[0m \u001b[0minput\u001b[0m\u001b[0;34m,\u001b[0m \u001b[0mweight\u001b[0m\u001b[0;34m.\u001b[0m\u001b[0mt\u001b[0m\u001b[0;34m(\u001b[0m\u001b[0;34m)\u001b[0m\u001b[0;34m)\u001b[0m\u001b[0;34m\u001b[0m\u001b[0;34m\u001b[0m\u001b[0m\n\u001b[0m\u001b[1;32m   1371\u001b[0m     \u001b[0;32melse\u001b[0m\u001b[0;34m:\u001b[0m\u001b[0;34m\u001b[0m\u001b[0;34m\u001b[0m\u001b[0m\n\u001b[1;32m   1372\u001b[0m         \u001b[0moutput\u001b[0m \u001b[0;34m=\u001b[0m \u001b[0minput\u001b[0m\u001b[0;34m.\u001b[0m\u001b[0mmatmul\u001b[0m\u001b[0;34m(\u001b[0m\u001b[0mweight\u001b[0m\u001b[0;34m.\u001b[0m\u001b[0mt\u001b[0m\u001b[0;34m(\u001b[0m\u001b[0;34m)\u001b[0m\u001b[0;34m)\u001b[0m\u001b[0;34m\u001b[0m\u001b[0;34m\u001b[0m\u001b[0m\n",
      "\u001b[0;31mRuntimeError\u001b[0m: size mismatch, m1: [6 x 6], m2: [259740 x 4329] at /tmp/pip-req-build-9oilk29k/aten/src/TH/generic/THTensorMath.cpp:197"
     ]
    }
   ],
   "source": [
    "EPOCHS = 20\n",
    "\n",
    "best_valid_loss = float('inf')\n",
    "\n",
    "for epoch in range(EPOCHS):\n",
    "    \n",
    "    start_time = time.monotonic()\n",
    "    \n",
    "    train_loss, train_acc = train(model, train_iterator, optimizer, criterion, device)\n",
    "\n",
    "    \n",
    "    end_time = time.monotonic()\n",
    "\n",
    "    epoch_mins, epoch_secs = epoch_time(start_time, end_time)\n",
    "    \n",
    "    print(f'Epoch: {epoch+1:02} | Epoch Time: {epoch_mins}m {epoch_secs}s')\n",
    "    print(f'\\tTrain Loss: {train_loss:.3f} | Train Acc: {train_acc*100:.2f}%')\n",
    "    print(f'\\t Val. Loss: {valid_loss:.3f} |  Val. Acc: {valid_acc*100:.2f}%')"
   ]
  },
  {
   "cell_type": "code",
   "execution_count": null,
   "id": "floppy-marsh",
   "metadata": {},
   "outputs": [],
   "source": []
  },
  {
   "cell_type": "code",
   "execution_count": null,
   "id": "expensive-attraction",
   "metadata": {},
   "outputs": [],
   "source": []
  }
 ],
 "metadata": {
  "kernelspec": {
   "display_name": "Python 3",
   "language": "python",
   "name": "python3"
  },
  "language_info": {
   "codemirror_mode": {
    "name": "ipython",
    "version": 3
   },
   "file_extension": ".py",
   "mimetype": "text/x-python",
   "name": "python",
   "nbconvert_exporter": "python",
   "pygments_lexer": "ipython3",
   "version": "3.7.10"
  }
 },
 "nbformat": 4,
 "nbformat_minor": 5
}
