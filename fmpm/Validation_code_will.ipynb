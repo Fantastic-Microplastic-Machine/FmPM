{
 "cells": [
  {
   "cell_type": "code",
   "execution_count": 1,
   "id": "russian-fishing",
   "metadata": {},
   "outputs": [],
   "source": [
    "import torch\n",
    "import torchvision\n",
    "import construct\n",
    "import prep\n",
    "import pandas as pd\n",
    "import numpy as np\n",
    "import matplotlib.pyplot as plt\n",
    "from sklearn.model_selection import KFold"
   ]
  },
  {
   "cell_type": "code",
   "execution_count": 2,
   "id": "comparable-adams",
   "metadata": {},
   "outputs": [],
   "source": [
    "class myModel(torch.nn.Module):\n",
    "    def __init__(self):\n",
    "        \"\"\"\n",
    "        Initializes CNN. Here we just define layer shapes that we call in the forward func\n",
    "        \"\"\"\n",
    "        super().__init__()\n",
    "\n",
    "        self.conv1 = torch.nn.Conv2d(in_channels = 3, \n",
    "                               out_channels = 6, \n",
    "                               kernel_size = 5,\n",
    "                                    bias = False)\n",
    "                \n",
    "        #Convultion layer 2. See above\n",
    "        self.conv2 = torch.nn.Conv2d(in_channels = 6, \n",
    "                               out_channels = 12, \n",
    "                               kernel_size = 5,\n",
    "                                    bias = False)\n",
    "        \n",
    "        self.fc_1 = torch.nn.Linear(39 * 39 * 12, 256)\n",
    "        self.fc_2 = torch.nn.Linear(256, 2)\n",
    "        self.drop = torch.nn.Dropout(p=.2)\n",
    "        self.batch1 = torch.nn.BatchNorm2d(6, eps=1e-05, momentum=0.1, affine=True, track_running_stats=True)\n",
    "        self.batch2 = torch.nn.BatchNorm2d(12, eps=1e-05, momentum=0.1, affine=True, track_running_stats=True)\n",
    "            \n",
    "    def forward(self, x):\n",
    "        \"\"\"\n",
    "        Function that performs all the neural network forward calculation i.e.\n",
    "        takes image data from the input of the neural network to the output\n",
    "        \"\"\"\n",
    "        \n",
    "        x = self.conv1(x)\n",
    "        x = self.batch1(x)\n",
    "        x = torch.nn.functional.max_pool2d(x, kernel_size = 2)\n",
    "        x = torch.nn.functional.leaky_relu(x)\n",
    "        x = self.conv2(x)\n",
    "        x = self.batch2(x)\n",
    "        x = torch.nn.functional.max_pool2d(x, kernel_size = 4)\n",
    "        x = torch.nn.functional.leaky_relu(x)\n",
    "        x = x.view(x.shape[0], -1)  \n",
    "        x = self.fc_1(x) \n",
    "        x = torch.nn.functional.leaky_relu(x)\n",
    "        x = self.drop(x)\n",
    "        x = self.fc_2(x) \n",
    "        return x\n",
    "\n",
    "model = myModel()"
   ]
  },
  {
   "cell_type": "code",
   "execution_count": 3,
   "id": "mental-forestry",
   "metadata": {},
   "outputs": [
    {
     "name": "stderr",
     "output_type": "stream",
     "text": [
      "/Users/Will/GradSchool/CHEME/Project/FmPM/fmpm/prep.py:204: SettingWithCopyWarning: \n",
      "A value is trying to be set on a copy of a slice from a DataFrame\n",
      "\n",
      "See the caveats in the documentation: https://pandas.pydata.org/pandas-docs/stable/user_guide/indexing.html#returning-a-view-versus-a-copy\n",
      "  identification[i] = False\n",
      "/Users/Will/GradSchool/CHEME/Project/FmPM/fmpm/prep.py:202: SettingWithCopyWarning: \n",
      "A value is trying to be set on a copy of a slice from a DataFrame\n",
      "\n",
      "See the caveats in the documentation: https://pandas.pydata.org/pandas-docs/stable/user_guide/indexing.html#returning-a-view-versus-a-copy\n",
      "  identification[i] = True\n"
     ]
    },
    {
     "name": "stdout",
     "output_type": "stream",
     "text": [
      "EPOCH: 0, acc: 0.674679485651163, loss: 0.633450801555927\n",
      "EPOCH: 1, acc: 0.6778846153846154, loss: 0.6326699073498065\n",
      "EPOCH: 2, acc: 0.6770833318050091, loss: 0.6374962284014776\n",
      "EPOCH: 3, acc: 0.6738782066565293, loss: 0.6298320522675147\n",
      "EPOCH: 0, acc: 0.6958653835149912, loss: 0.6160778815929706\n",
      "EPOCH: 1, acc: 0.7023076919408945, loss: 0.6190303151424115\n",
      "EPOCH: 2, acc: 0.6958653835149912, loss: 0.6120806428102347\n",
      "EPOCH: 3, acc: 0.700961539378533, loss: 0.6073171909038837\n",
      "EPOCH: 0, acc: 0.6728846155680143, loss: 0.640074936243204\n",
      "EPOCH: 1, acc: 0.6725000005501968, loss: 0.6309212423287905\n",
      "EPOCH: 2, acc: 0.6728846155680143, loss: 0.6453300370619848\n",
      "EPOCH: 3, acc: 0.6745192316862253, loss: 0.6276172812168415\n",
      "EPOCH: 0, acc: 0.6869230774732736, loss: 0.6161148571051084\n",
      "EPOCH: 1, acc: 0.6879807710647583, loss: 0.6197612698261554\n",
      "EPOCH: 2, acc: 0.6879807710647583, loss: 0.6213852946574872\n",
      "EPOCH: 3, acc: 0.6882692300356351, loss: 0.6309732794761658\n",
      "EPOCH: 0, acc: 0.6810576915740967, loss: 0.6352995542379526\n",
      "EPOCH: 1, acc: 0.6735576941416814, loss: 0.6354027848977309\n",
      "EPOCH: 2, acc: 0.677307692857889, loss: 0.6364213801347293\n",
      "EPOCH: 3, acc: 0.6752884617218604, loss: 0.6392706770163316\n"
     ]
    }
   ],
   "source": [
    "k = 5\n",
    "epochs = 250\n",
    "BATCH_SIZE = 32\n",
    "criterion = torch.nn.CrossEntropyLoss()\n",
    "device = torch.device('cuda' if torch.cuda.is_available() else 'cpu')\n",
    "transforms = torchvision.transforms.Compose([\n",
    "                            torchvision.transforms.ToPILImage(),\n",
    "                            torchvision.transforms.RandomRotation((-180,180)),\n",
    "                            torchvision.transforms.CenterCrop((325)),\n",
    "                            torchvision.transforms.ToTensor()\n",
    "                                      ])\n",
    "image_dir = 'will/data/raman_images'\n",
    "labels_file = 'will/data/labels.csv'\n",
    "DATA = prep.prep_data(pd.read_csv(labels_file), image_dir)\n",
    "transforms = torchvision.transforms.Compose([\n",
    "                            torchvision.transforms.ToPILImage(),\n",
    "                            torchvision.transforms.RandomRotation((-180,180)),\n",
    "                            torchvision.transforms.CenterCrop((325)),\n",
    "                            torchvision.transforms.ToTensor()\n",
    "                                      ])\n",
    "optimizer = torch.optim.Adam(model.parameters(), lr=.001)\n",
    "\n",
    "\n",
    "x = construct.k_fold(k, epochs, BATCH_SIZE, transforms, criterion, model, DATA, device, image_dir)\n",
    "(models, losses, train_accs, naive_accs, test_accs) = x"
   ]
  },
  {
   "cell_type": "code",
   "execution_count": 7,
   "id": "tamil-logic",
   "metadata": {},
   "outputs": [
    {
     "data": {
      "text/plain": [
       "[<matplotlib.lines.Line2D at 0x12b3f9550>]"
      ]
     },
     "execution_count": 7,
     "metadata": {},
     "output_type": "execute_result"
    },
    {
     "data": {
      "image/png": "[encoded data removed]",
      "text/plain": [
       "<Figure size 432x288 with 1 Axes>"
      ]
     },
     "metadata": {
      "needs_background": "light"
     },
     "output_type": "display_data"
    }
   ],
   "source": [
    "plt.plot(train_accs)\n",
    "plt.plot(naive_accs)\n",
    "plt.plot(test_accs)"
   ]
  },
  {
   "cell_type": "code",
   "execution_count": null,
   "id": "japanese-falls",
   "metadata": {},
   "outputs": [],
   "source": []
  }
 ],
 "metadata": {
  "kernelspec": {
   "display_name": "Python 3",
   "language": "python",
   "name": "python3"
  },
  "language_info": {
   "codemirror_mode": {
    "name": "ipython",
    "version": 3
   },
   "file_extension": ".py",
   "mimetype": "text/x-python",
   "name": "python",
   "nbconvert_exporter": "python",
   "pygments_lexer": "ipython3",
   "version": "3.7.10"
  }
 },
 "nbformat": 4,
 "nbformat_minor": 5
}
