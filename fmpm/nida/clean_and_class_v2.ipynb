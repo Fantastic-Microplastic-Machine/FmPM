{
 "cells": [
  {
   "cell_type": "code",
   "execution_count": 1,
   "id": "ahead-disclosure",
   "metadata": {},
   "outputs": [],
   "source": [
    "import copy\n",
    "import random\n",
    "import time\n",
    "import os\n",
    "import re\n",
    "\n",
    "import torch\n",
    "import torch.nn as nn\n",
    "import torch.nn.functional \n",
    "import torch.optim \n",
    "import torch.utils.data\n",
    "\n",
    "import torchvision.transforms\n",
    "import torchvision.datasets\n",
    "\n",
    "import skimage.io\n",
    "import skimage.transform\n",
    "import sklearn.preprocessing\n",
    "\n",
    "import matplotlib.pyplot as plt\n",
    "import numpy as np\n",
    "import pandas as pd"
   ]
  },
  {
   "cell_type": "code",
   "execution_count": 2,
   "id": "major-sculpture",
   "metadata": {},
   "outputs": [],
   "source": [
    "pd.options.mode.chained_assignment = None"
   ]
  },
  {
   "cell_type": "markdown",
   "id": "entire-bundle",
   "metadata": {},
   "source": [
    "# Functions"
   ]
  },
  {
   "cell_type": "code",
   "execution_count": 3,
   "id": "hindu-trade",
   "metadata": {},
   "outputs": [],
   "source": [
    "def set_seeds(seed):\n",
    "    \"\"\"sets seeds for several used packages\"\"\"\n",
    "    random.seed(seed)\n",
    "    np.random.seed(seed)\n",
    "    torch.manual_seed(seed)\n",
    "    torch.cuda.manual_seed(seed)\n",
    "    torch.backends.cudnn.deterministic = True"
   ]
  },
  {
   "cell_type": "code",
   "execution_count": 4,
   "id": "independent-planning",
   "metadata": {},
   "outputs": [],
   "source": [
    "def encode_column(column):\n",
    "    \"\"\"\n",
    "    takes single columned Pandas DataFrame of categorical data and encodes it\n",
    "    into array of class binarys\n",
    "    \"\"\"\n",
    "    encoder = sklearn.preprocessing.OneHotEncoder()\n",
    "    shape_arr = encoder.fit_transform(column).toarray().astype(int)\n",
    "        \n",
    "    return list(shape_arr)"
   ]
  },
  {
   "cell_type": "code",
   "execution_count": 5,
   "id": "shared-pharmacology",
   "metadata": {},
   "outputs": [],
   "source": [
    "def prep_data(labels, image_root):\n",
    "    \"\"\"\n",
    "    Takes in raw labels dataframe and converts it into the format\n",
    "    expected for tenX_dataset class\n",
    "    \"\"\"\n",
    "\n",
    "    #Splitting description column into color and shape columns\n",
    "    new = labels[\"Description\"].str.split(\" \", n=1, expand=True)\n",
    "    labels.drop(columns=['Description'], inplace=True)\n",
    "    labels['Color'] = new[0].values\n",
    "    labels['Shape'] = new[1].values\n",
    "    \n",
    "    #Decomposing sample keywords into seperate strings\n",
    "    sample_names = labels[\"Sample\"].str.split(\" \", n=1, expand=False)\n",
    "    labels['Sample'] = sample_names\n",
    "    \n",
    "    #Converting identification into boolean for is/is not plastic\n",
    "    PLASTICS = ['polystyrene', 'polyethylene','polypropylene','Nylon','ink + plastic','PET','carbon fiber','poly(ethylene glycol) monooleate or polyamide resin']\n",
    "    identification = labels['Identification']\n",
    "    \n",
    "    for i in range(0,len(identification)):\n",
    "        if identification[i] in PLASTICS:\n",
    "            identification[i] = True\n",
    "        else:\n",
    "            identification[i] = False\n",
    "\n",
    "    labels['Identification']=identification\n",
    "    labels.rename(columns={'Identification': 'isPlastic'}, inplace=True)\n",
    "    labels['isPlastic'] = labels[\"isPlastic\"].astype(int)\n",
    "    \n",
    "    \n",
    "    #Encoding shape and color data\n",
    "    labels['Shape'] = encode_column(labels[['Shape']])\n",
    "    labels['Color'] = encode_column(labels[['Color']])\n",
    "    \n",
    "    labels = add_filenames(labels, image_root)\n",
    "    \n",
    "    return labels"
   ]
  },
  {
   "cell_type": "code",
   "execution_count": 6,
   "id": "parallel-hartford",
   "metadata": {},
   "outputs": [],
   "source": [
    "def add_filenames(labels, image_root):\n",
    "    \"\"\"\n",
    "    Replaces sample column of labels with the actual filename so that the dataset class doesn't have to do that work.\n",
    "    \"\"\"\n",
    "    image_filenames = os.listdir(image_root)\n",
    "    labels.insert(loc=1, column='File', value=None)\n",
    "    for index, row in labels.iterrows():\n",
    "        sample = row['Sample']\n",
    "        for fname in image_filenames:\n",
    "            str_id = '^' + ' '.join(row['Sample']) + ' .*'\n",
    "            result = re.search(str_id, fname)\n",
    "            if result:\n",
    "                image_file = result.group()\n",
    "                assert(os.path.exists('./data/images_10x/' + image_file))\n",
    "                break\n",
    "        else:\n",
    "            image_file = None\n",
    "        labels.loc[index, 'File'] = image_file\n",
    "    return labels"
   ]
  },
  {
   "cell_type": "code",
   "execution_count": 7,
   "id": "dated-february",
   "metadata": {},
   "outputs": [],
   "source": [
    "def remove_nones(df):\n",
    "    \"\"\"further preps dataframe by removing nones, should probably move into prep_data\"\"\"\n",
    "    for index, row in df.iterrows():\n",
    "        if row['File'] == None:\n",
    "            df.drop(index, inplace=True)\n",
    "    df = df.reset_index(drop=True)\n",
    "    return df\n"
   ]
  },
  {
   "cell_type": "code",
   "execution_count": 8,
   "id": "gorgeous-lancaster",
   "metadata": {},
   "outputs": [],
   "source": [
    "def split_train_test(labels_df, train_prop):\n",
    "    \"\"\"\n",
    "    Input: prepped and cleaned dataframe with image and corresponding\n",
    "    plastic/non-plastic identifications, desired proportion for training set (decimal between 0-1) \n",
    "    Returns: training dataframe with train_prop of the total data, and test_df with the remaining data\n",
    "    \"\"\"\n",
    "    split_ratio = 0.5\n",
    "    train_df = (labels_frame.sample(frac = train_prop))\n",
    "    test_df = (labels_frame.drop(train_df.index))\n",
    "\n",
    "    # reset index to avoid KeyErrors!\n",
    "    train_df = train_df.reset_index()\n",
    "    test_df = test_df.reset_index()\n",
    "    return train_df, test_df"
   ]
  },
  {
   "cell_type": "code",
   "execution_count": 9,
   "id": "elect-profit",
   "metadata": {},
   "outputs": [],
   "source": [
    "# runs but may have bugs- net seems to only guess 1 or 0 no matter what \n",
    "\n",
    "def train_model(train_loader, network, optimizer, criterion, nepochs):\n",
    "    \"\"\"\n",
    "    This function trains a convolutional neural network.\n",
    "    Input: the training set data loader, defined network, optimizer , crtiterion, and number of epochs\n",
    "    Returns: trained neural network \n",
    "    \"\"\"\n",
    "    for epoch in range(nepochs):  # loop over the dataset\n",
    "        running_loss = 0.0\n",
    "    \n",
    "        for i, data in enumerate(train_loader, 0):\n",
    "\n",
    "            #get the inputs and correspponding labels\n",
    "            inputs = data['image']\n",
    "            labels = data['plastic']\n",
    "\n",
    "            # zero the parameter gradients\n",
    "            optimizer.zero_grad()\n",
    "\n",
    "            # forward + backward + optimize\n",
    "            outputs =  network(data['image'])\n",
    "            loss = criterion(outputs, labels)\n",
    "            loss.backward()\n",
    "            optimizer.step()\n",
    "            \n",
    "            print('Finished Training')\n",
    "    return network \n"
   ]
  },
  {
   "cell_type": "markdown",
   "id": "nutritional-bandwidth",
   "metadata": {},
   "source": [
    "# Custom Dataset"
   ]
  },
  {
   "cell_type": "code",
   "execution_count": 10,
   "id": "magnetic-daughter",
   "metadata": {},
   "outputs": [],
   "source": [
    "class tenX_dataset(torch.utils.data.Dataset):\n",
    "    \"\"\"\n",
    "    Class inherited from torch Dataset. Required methods are, init,\n",
    "    len, and getitem.\n",
    "    \"\"\"\n",
    "    def __init__(self, labels_frame, image_dir, transform):\n",
    "        \"\"\"\n",
    "        initializes an instance of the class. Here we store 4 variables\n",
    "        in the class. Calling init just looks like dataset = tenX_dataset(lables, 'image_folder', transform).\n",
    "        \n",
    "        labels: altered version of csv file\n",
    "        image_dir: The file path to the folder the images are in\n",
    "        image_filenames: A list of all the image file names in the image folder\n",
    "        transform: A pytorch object. Works like a function. You call transform(x) and it performs\n",
    "                    a series of operations on x\n",
    "        \"\"\"\n",
    "        self.labels = labels_frame\n",
    "        self.image_dir = image_dir\n",
    "        self.image_filenames = os.listdir(self.image_dir)\n",
    "        self.transform = transform\n",
    "        \n",
    "\n",
    "    def __len__(self):\n",
    "        \"\"\"Returns the length of the dataset\"\"\"\n",
    "        return len(self.labels)\n",
    "    \n",
    "    \n",
    "    def __getitem__(self, idx):\n",
    "        \"\"\"\n",
    "        Returns a dictionary containing image and image data. Right now\n",
    "        it looks like: \n",
    "        sample = {'image': image, 'plastic': [0], 'shape':[0,0,0,0,0], 'color':[0,0,0,0,0]}\n",
    "        \"\"\"\n",
    "        image_filename = self.labels['File'][idx]\n",
    "        image = None\n",
    "             \n",
    "        if image_filename is not None:\n",
    "            image_filepath = os.path.join(self.image_dir, image_filename)\n",
    "            image = skimage.io.imread(image_filepath)\n",
    "            if self.transform is not None:\n",
    "                image = self.transform(image)\n",
    "\n",
    "        sample = {'image': image,\n",
    "                  'shape': self.labels['Shape'][idx],\n",
    "                  'color': self.labels['Color'][idx],\n",
    "                  'plastic': self.labels['isPlastic'][idx]}\n",
    "  \n",
    "        return sample"
   ]
  },
  {
   "cell_type": "code",
   "execution_count": 11,
   "id": "descending-ethnic",
   "metadata": {},
   "outputs": [],
   "source": [
    "def save_network(network, path):\n",
    "    \"\"\"\n",
    "    Saves trained neural network to a file\n",
    "    Input: trained network, path for saving (e.g. './trained_test1.pth')\n",
    "    Returns: None, saves network to the specified file \n",
    "    \"\"\"\n",
    "    PATH = path\n",
    "    torch.save(network.state_dict(), PATH)\n",
    "    return None\n",
    "    "
   ]
  },
  {
   "cell_type": "markdown",
   "id": "italian-charlotte",
   "metadata": {},
   "source": [
    "### Plotting first 20 images of dataset. Obviously getting quite a few duplicates"
   ]
  },
  {
   "cell_type": "code",
   "execution_count": 12,
   "id": "solved-endorsement",
   "metadata": {
    "scrolled": true
   },
   "outputs": [],
   "source": [
    "# labels_filepath = 'data/10x_labels_more.csv'\n",
    "# image_dir = 'data/images_10x'\n",
    "# labels = prep_data(pd.read_csv(labels_filepath, delimiter='\\t'), image_dir)\n",
    "# tenX = tenX_dataset(labels, image_dir, None)\n",
    "\n",
    "\n",
    "# for i in range(len(tenX)):\n",
    "#     sample = tenX[i]\n",
    "#     plt.figure(i)\n",
    "#     if sample['image'] is not None:\n",
    "#         plt.imshow(sample['image'])\n",
    "#     if i>20:\n",
    "#         break"
   ]
  },
  {
   "cell_type": "markdown",
   "id": "dying-european",
   "metadata": {},
   "source": [
    "# Things to improve/fix\n",
    "* Make sure the nonetypes are because the file actually isn't in my folder of images\n",
    "* Code for normalizing image data\n",
    "* Image augmentation. Probably want to cut off some of the edges to get rid of number stuff and decrease extraneous information. The think we actually care about is only occupying like 5-10% of the image."
   ]
  },
  {
   "cell_type": "markdown",
   "id": "figured-criterion",
   "metadata": {},
   "source": [
    "# CNN \n",
    "\n",
    "starting from simple test network lik eher:https://pytorch.org/tutorials/beginner/blitz/cifar10_tutorial.html\n"
   ]
  },
  {
   "cell_type": "code",
   "execution_count": 13,
   "id": "vital-costume",
   "metadata": {},
   "outputs": [],
   "source": [
    "# set seeds - for reproducibility\n",
    "set_seeds(10)"
   ]
  },
  {
   "cell_type": "code",
   "execution_count": 14,
   "id": "magnetic-reputation",
   "metadata": {},
   "outputs": [],
   "source": [
    "# define the transform for the image\n",
    "transform = torchvision.transforms.Compose([torchvision.transforms.ToPILImage(),\n",
    "                                             torchvision.transforms.CenterCrop((300, 350)),\n",
    "                                             torchvision.transforms.RandomRotation((-180,180)),\n",
    "                                             torchvision.transforms.ToTensor()\n",
    "                                            ])"
   ]
  },
  {
   "cell_type": "code",
   "execution_count": 72,
   "id": "billion-result",
   "metadata": {},
   "outputs": [],
   "source": [
    "#load data and split into test and train DataFrames\n",
    "image_dir = 'data/images_10x'\n",
    "labels_frame = remove_nones(prep_data(pd.read_csv('data/10x_plastic_bias.csv', delimiter='\\t'), image_dir))\n",
    "train_df, test_df = split_train_test(labels_frame, 0.7)"
   ]
  },
  {
   "cell_type": "code",
   "execution_count": 153,
   "id": "beginning-handle",
   "metadata": {},
   "outputs": [],
   "source": [
    "train_set = tenX_dataset(train_df, image_dir, transform = transform)\n",
    "test_set = tenX_dataset(test_df, image_dir, transform = transform)\n",
    "\n",
    "batch_size = 5\n",
    "trainloader = torch.utils.data.DataLoader(train_set, batch_size=batch_size, shuffle=True, num_workers=2)\n",
    "testloader = torch.utils.data.DataLoader(test_set, batch_size=batch_size, shuffle=True, num_workers=2)"
   ]
  },
  {
   "cell_type": "code",
   "execution_count": 99,
   "id": "piano-conservative",
   "metadata": {},
   "outputs": [
    {
     "name": "stdout",
     "output_type": "stream",
     "text": [
      "135\n",
      "58\n",
      "27\n",
      "12\n"
     ]
    }
   ],
   "source": [
    "print(len(train_set))\n",
    "print(len(test_set))\n",
    "print(len(trainloader))\n",
    "print(len(testloader))"
   ]
  },
  {
   "cell_type": "code",
   "execution_count": 51,
   "id": "earlier-glory",
   "metadata": {},
   "outputs": [],
   "source": [
    "import torch.nn as nn\n",
    "import torch.nn.functional\n",
    "\n",
    "\n",
    "class Net(nn.Module):\n",
    "    def __init__(self):\n",
    "        super(Net, self).__init__()\n",
    "        self.conv1 = nn.Conv2d(in_channels=3, out_channels=6, kernel_size=5)\n",
    "        #self.pool = torch.nn.MaxPool2d(3, 2)\n",
    "        self.conv2 = nn.Conv2d(in_channels=6, out_channels=12, kernel_size=5)\n",
    "        self.fc1 = nn.Linear(72576, 6)\n",
    "        self.fc2 = nn.Linear(6, 6)\n",
    "        self.fc3 = nn.Linear(6,2)\n",
    "\n",
    "    def forward(self, x):\n",
    "        x = self.conv1(x)\n",
    "        x = nn.functional.max_pool2d(x, kernel_size = 2)\n",
    "        x = nn.functional.relu(x)\n",
    "        x = self.conv2(x)\n",
    "        x = nn.functional.max_pool2d(x, kernel_size = 2)\n",
    "        x = nn.functional.relu(x)\n",
    "        x = x.view(x.shape[0], -1)\n",
    "        x = self.fc1(x)    \n",
    "        x = nn.functional.relu(x)\n",
    "        x = self.fc2(x)    \n",
    "        x = nn.functional.relu(x)\n",
    "        x = self.fc3(x)    \n",
    "#         x = self.pool(torch.nn.functional.relu(self.conv1(x)))\n",
    "#         x = self.pool(torch.nn.functional.relu(self.conv2(x)))\n",
    "#         x = x.view(x.shape[0], -1)\n",
    "#         x = nn.functional.relu(self.fc1(x))\n",
    "#         x = nn.functional.relu(self.fc2(x))\n",
    "#         x = self.fc3(x)\n",
    "        return x\n",
    "    \n",
    "\n",
    "\n",
    "net = Net()"
   ]
  },
  {
   "cell_type": "code",
   "execution_count": 52,
   "id": "adjusted-alias",
   "metadata": {},
   "outputs": [],
   "source": [
    "#defining loss function and optimizer\n",
    "criterion = nn.CrossEntropyLoss()\n",
    "# optimizer = torch.optim.SGD(net.parameters(), lr=0.001, momentum=0.9)\n",
    "optimizer = torch.optim.Adam(net.parameters(), lr=0.001)"
   ]
  },
  {
   "cell_type": "code",
   "execution_count": 54,
   "id": "artistic-effort",
   "metadata": {
    "scrolled": true
   },
   "outputs": [
    {
     "name": "stdout",
     "output_type": "stream",
     "text": [
      "Finished Training\n"
     ]
    }
   ],
   "source": [
    "for epoch in range(20):  # loop over the dataset multiple times\n",
    "    running_loss = 0.0\n",
    "    \n",
    "    for i, data in enumerate(trainloader, 0):\n",
    "        \n",
    "        inputs = data['image']\n",
    "        labels = data['plastic']\n",
    "\n",
    "        # zero the parameter gradients\n",
    "        #optimizer.zero_grad()\n",
    "\n",
    "        # forward + backward + optimize\n",
    "        outputs =  net(data['image'])\n",
    "        loss = criterion(outputs, labels)\n",
    "        loss.backward()\n",
    "        optimizer.step()\n",
    "        #print(net.conv1.weight.grad) \n",
    "        #print(net.conv2.bias.grad[3])\n",
    "\n",
    "        # print statistics\n",
    "        #running_loss += loss.item()\n",
    "        #if i % 2000 == 1999:    # print every 2000 mini-batches\n",
    "        #    print('[%d, %5d] loss: %.3f' %\n",
    "        #          (epoch + 1, i + 1, running_loss / 2000))\n",
    "        #    running_loss = 0.0\n",
    "\n",
    "print('Finished Training')"
   ]
  },
  {
   "cell_type": "code",
   "execution_count": 82,
   "id": "rapid-administrator",
   "metadata": {},
   "outputs": [
    {
     "name": "stdout",
     "output_type": "stream",
     "text": [
      "tensor([1, 1, 0, 1, 0])\n",
      "prediction  tensor([0, 0, 0, 0, 0])\n",
      "tensor([1, 1, 0, 1, 0])\n",
      "prediction  tensor([0, 0, 0, 0, 0])\n",
      "tensor([1, 1, 0, 1, 1])\n",
      "prediction  tensor([0, 0, 0, 0, 0])\n",
      "tensor([1, 1, 1, 1, 1])\n",
      "prediction  tensor([0, 0, 0, 0, 0])\n",
      "tensor([0, 0, 0, 0, 0])\n",
      "prediction  tensor([0, 0, 0, 0, 0])\n",
      "tensor([1, 1, 0, 0, 0])\n",
      "prediction  tensor([0, 0, 0, 0, 0])\n",
      "tensor([0, 0, 0, 0, 1])\n",
      "prediction  tensor([0, 0, 0, 0, 0])\n",
      "tensor([0, 0, 0, 0, 1])\n",
      "prediction  tensor([0, 0, 0, 0, 0])\n",
      "tensor([1, 0, 0, 0, 1])\n",
      "prediction  tensor([0, 0, 0, 0, 0])\n",
      "tensor([1, 1, 1, 1, 0])\n",
      "prediction  tensor([0, 0, 0, 0, 0])\n",
      "tensor([0, 0, 1, 1, 1])\n",
      "prediction  tensor([0, 0, 0, 0, 0])\n",
      "tensor([1, 0, 0])\n",
      "prediction  tensor([0, 0, 0])\n",
      "Accuracy of the network on the 12 test images: 50 %\n"
     ]
    }
   ],
   "source": [
    "save_network(net, './trained_test1.pth')\n",
    "\n",
    "dataiter = iter(testloader)\n",
    "images = dataiter.next()['image']\n",
    "labels = dataiter.next()['plastic']\n",
    "\n",
    "outputs = net(images)\n",
    "outputs\n",
    "\n",
    "correct = 0\n",
    "total = 0\n",
    "with torch.no_grad():\n",
    "    for data in testloader:\n",
    "        images = data['image']\n",
    "        labels = data['plastic']\n",
    "        outputs = net(images)\n",
    "        print(data['plastic'])\n",
    "        predicted = torch.max(outputs.data, 1)[1]\n",
    "        print('prediction ', predicted)\n",
    "        total += labels.size(0)\n",
    "        correct += (predicted == labels).sum().item()\n",
    "\n",
    "print('Accuracy of the network on the %d test images: %d %%' % (len(testloader),\n",
    "    100 * correct / total))"
   ]
  },
  {
   "cell_type": "code",
   "execution_count": 58,
   "id": "angry-printer",
   "metadata": {},
   "outputs": [
    {
     "name": "stdout",
     "output_type": "stream",
     "text": [
      "tensor([0, 0, 1, 1, 1, 0, 0, 1, 0, 1])\n",
      "prediction  tensor([0, 0, 0, 0, 0, 0, 0, 0, 0, 0])\n",
      "tensor([0, 1, 1, 0, 1, 0, 0, 1, 0, 1])\n",
      "prediction  tensor([0, 0, 0, 0, 0, 0, 0, 0, 0, 0])\n",
      "tensor([0, 0, 0, 0, 0, 1, 0, 0, 0, 1])\n",
      "prediction  tensor([0, 0, 0, 0, 0, 0, 0, 0, 0, 0])\n",
      "tensor([0, 0, 1, 1, 0, 1, 0, 1, 0, 0])\n",
      "prediction  tensor([0, 0, 0, 0, 0, 0, 0, 0, 0, 0])\n",
      "tensor([0, 0, 0, 1, 1, 1, 1, 0, 1, 0])\n",
      "prediction  tensor([0, 0, 0, 0, 0, 0, 0, 0, 0, 0])\n",
      "tensor([0, 1, 0, 0, 1, 1, 0, 1])\n",
      "prediction  tensor([0, 0, 0, 0, 0, 0, 0, 0])\n",
      "Accuracy of the network on the 6 test images: 56 %\n"
     ]
    }
   ],
   "source": []
  },
  {
   "cell_type": "markdown",
   "id": "neutral-metadata",
   "metadata": {},
   "source": [
    "## try a different model "
   ]
  },
  {
   "cell_type": "code",
   "execution_count": 162,
   "id": "interracial-heather",
   "metadata": {},
   "outputs": [],
   "source": [
    "class NetTwo(nn.Module):\n",
    "    def __init__(self):\n",
    "        super(NetTwo, self).__init__()\n",
    "        # convolutional layer\n",
    "        self.conv1 = nn.Conv2d(3, 16, 5)\n",
    "        # max pooling layer\n",
    "        self.pool = nn.MaxPool2d(2, 2)\n",
    "        self.conv2 = nn.Conv2d(16, 32, 5)\n",
    "        self.dropout = nn.Dropout(0.2)\n",
    "        self.fc1 = nn.Linear(193536, 256)\n",
    "        self.fc2 = nn.Linear(256, 84)\n",
    "        self.fc3 = nn.Linear(84, 2)\n",
    "        self.softmax = nn.LogSoftmax(dim=1)\n",
    "        \n",
    "    def forward(self, x):\n",
    "        # add sequence of convolutional and max pooling layers\n",
    "        x = self.pool(nn.functional.relu(self.conv1(x)))\n",
    "        x = self.pool(nn.functional.relu(self.conv2(x)))\n",
    "        x = self.dropout(x)\n",
    "        x = x.view(-1,193536 )\n",
    "        x = nn.functional.relu(self.fc1(x))\n",
    "        x = self.dropout(nn.functional.relu(self.fc2(x)))\n",
    "        x = self.softmax(self.fc3(x))\n",
    "        return x\n",
    "    \n",
    "model = NetTwo()"
   ]
  },
  {
   "cell_type": "code",
   "execution_count": 163,
   "id": "auburn-algebra",
   "metadata": {
    "scrolled": false
   },
   "outputs": [
    {
     "name": "stdout",
     "output_type": "stream",
     "text": [
      "NetTwo(\n",
      "  (conv1): Conv2d(3, 16, kernel_size=(5, 5), stride=(1, 1))\n",
      "  (pool): MaxPool2d(kernel_size=2, stride=2, padding=0, dilation=1, ceil_mode=False)\n",
      "  (conv2): Conv2d(16, 32, kernel_size=(5, 5), stride=(1, 1))\n",
      "  (dropout): Dropout(p=0.2, inplace=False)\n",
      "  (fc1): Linear(in_features=193536, out_features=256, bias=True)\n",
      "  (fc2): Linear(in_features=256, out_features=84, bias=True)\n",
      "  (fc3): Linear(in_features=84, out_features=2, bias=True)\n",
      "  (softmax): LogSoftmax()\n",
      ")\n"
     ]
    }
   ],
   "source": [
    "# defining the model\n",
    "model = NetTwo()\n",
    "# defining the optimizer\n",
    "optimizer = torch.optim.Adam(model.parameters(), lr=0.07)\n",
    "# defining the loss function\n",
    "criterion = nn.CrossEntropyLoss()\n",
    "# checking if GPU is available\n",
    "if torch.cuda.is_available():\n",
    "    model = model.cuda()\n",
    "    criterion = criterion.cuda()\n",
    "    \n",
    "print(model)"
   ]
  },
  {
   "cell_type": "code",
   "execution_count": 170,
   "id": "classical-sacramento",
   "metadata": {},
   "outputs": [],
   "source": [
    "train_set = tenX_dataset(train_df, image_dir, transform = transform)\n",
    "test_set = tenX_dataset(test_df, image_dir, transform = transform)\n",
    "\n",
    "batch_size = 1\n",
    "trainloader = torch.utils.data.DataLoader(train_set, batch_size=batch_size, shuffle=True, num_workers=2)\n",
    "testloader = torch.utils.data.DataLoader(test_set, batch_size=batch_size, shuffle=True, num_workers=2)"
   ]
  },
  {
   "cell_type": "code",
   "execution_count": 175,
   "id": "bored-morrison",
   "metadata": {},
   "outputs": [],
   "source": [
    "model.eval()\n",
    "# iterate over test data\n",
    "test_loss = 0\n",
    "\n",
    "len(testloader)\n",
    "for i, sample in enumerate(trainloader):\n",
    "    # forward pass\n",
    "    data = sample['image']\n",
    "    target = sample['plastic']\n",
    "    output = model(data)\n",
    "    # calculate the batch loss\n",
    "    loss = criterion(output, target)\n",
    "    # update test loss \n",
    "    test_loss += loss.item()*data.size(0)\n",
    "    # convert output probabilities to predicted class\n",
    "    _, pred = torch.max(output, 1)    \n",
    "    # compare predictions to true label\n",
    "    correct_tensor = pred.eq(target.data.view_as(pred))\n",
    "    correct = np.squeeze(correct_tensor.numpy()) \n",
    "    # calculate test accuracy for each object class\n"
   ]
  },
  {
   "cell_type": "code",
   "execution_count": 80,
   "id": "instant-software",
   "metadata": {},
   "outputs": [
    {
     "name": "stdout",
     "output_type": "stream",
     "text": [
      "Finished Training\n"
     ]
    }
   ],
   "source": [
    "for epoch in range(20):  # loop over the dataset multiple times\n",
    "    running_loss = 0.0\n",
    "    \n",
    "    for i, data in enumerate(trainloader, 0):\n",
    "        \n",
    "        inputs = data['image']\n",
    "        labels = data['plastic']\n",
    "\n",
    "        # zero the parameter gradients\n",
    "        optimizer.zero_grad()\n",
    "\n",
    "        # forward + backward + optimize\n",
    "        outputs =  model(data['image'])\n",
    "        print()\n",
    "        loss = criterion(outputs, labels)\n",
    "        loss.backward()\n",
    "        optimizer.step()\n",
    "        #print(net.conv1.weight.grad) \n",
    "        #print(net.conv2.bias.grad[3])\n",
    "\n",
    "print('Finished Training')"
   ]
  },
  {
   "cell_type": "code",
   "execution_count": 81,
   "id": "pointed-twelve",
   "metadata": {},
   "outputs": [
    {
     "name": "stdout",
     "output_type": "stream",
     "text": [
      "tensor([1, 1, 0, 0, 1])\n",
      "prediction  tensor([0, 0, 0, 0, 0])\n",
      "tensor([0, 1, 1, 1, 0])\n",
      "prediction  tensor([0, 0, 0, 0, 0])\n",
      "tensor([1, 0, 1, 1, 0])\n",
      "prediction  tensor([0, 0, 0, 0, 0])\n",
      "tensor([0, 1, 0, 1, 1])\n",
      "prediction  tensor([0, 0, 0, 0, 0])\n",
      "tensor([1, 0, 0, 1, 0])\n",
      "prediction  tensor([0, 0, 0, 0, 0])\n",
      "tensor([1, 1, 0, 1, 0])\n",
      "prediction  tensor([0, 0, 0, 0, 0])\n",
      "tensor([0, 0, 0, 1, 1])\n",
      "prediction  tensor([0, 0, 0, 0, 0])\n",
      "tensor([1, 0, 1, 1, 0])\n",
      "prediction  tensor([0, 0, 0, 0, 0])\n",
      "tensor([1, 0, 0, 0, 0])\n",
      "prediction  tensor([0, 0, 0, 0, 0])\n",
      "tensor([0, 1, 0, 1, 0])\n",
      "prediction  tensor([0, 0, 0, 0, 0])\n",
      "tensor([0, 1, 1, 1, 0])\n",
      "prediction  tensor([0, 0, 0, 0, 0])\n",
      "tensor([1, 0, 0])\n",
      "prediction  tensor([0, 0, 0])\n",
      "Accuracy of the network on the 12 test images: 50 %\n"
     ]
    }
   ],
   "source": [
    "save_network(model, './trained_test2.pth')\n",
    "\n",
    "dataiter = iter(testloader)\n",
    "images = dataiter.next()['image']\n",
    "labels = dataiter.next()['plastic']\n",
    "\n",
    "outputs = net(images)\n",
    "outputs\n",
    "\n",
    "correct = 0\n",
    "total = 0\n",
    "with torch.no_grad():\n",
    "    for data in testloader:\n",
    "        images = data['image']\n",
    "        labels = data['plastic']\n",
    "        outputs = net(images)\n",
    "        print(data['plastic'])\n",
    "        predicted = torch.max(outputs.data, 1)[1]\n",
    "        print('prediction ', predicted)\n",
    "        total += labels.size(0)\n",
    "        correct += (predicted == labels).sum().item()\n",
    "\n",
    "print('Accuracy of the network on the %d test images: %d %%' % (len(testloader),\n",
    "    100 * correct / total))"
   ]
  },
  {
   "cell_type": "code",
   "execution_count": null,
   "id": "young-childhood",
   "metadata": {},
   "outputs": [],
   "source": []
  },
  {
   "cell_type": "code",
   "execution_count": null,
   "id": "supposed-machinery",
   "metadata": {},
   "outputs": [],
   "source": []
  },
  {
   "cell_type": "markdown",
   "id": "willing-portsmouth",
   "metadata": {},
   "source": [
    "# OLD"
   ]
  },
  {
   "cell_type": "code",
   "execution_count": null,
   "id": "steady-announcement",
   "metadata": {},
   "outputs": [],
   "source": []
  },
  {
   "cell_type": "code",
   "execution_count": null,
   "id": "sublime-european",
   "metadata": {},
   "outputs": [],
   "source": [
    "#This transform just resizes the images to 3,480,752. So 3 for red green blue then height of 480\n",
    "#and width of 752. \n",
    "#transform = torchvision.transforms.Compose([\n",
    " #                           torchvision.transforms.ToPILImage(),\n",
    " #                           torchvision.transforms.Resize((480, 752)),\n",
    "   #                         torchvision.transforms.ToTensor()\n",
    "  #                                    ])"
   ]
  },
  {
   "cell_type": "code",
   "execution_count": null,
   "id": "sapphire-driver",
   "metadata": {},
   "outputs": [],
   "source": [
    "#define image directory and cleaned up dataframe\n",
    "image_dir = 'data/images_10x'\n",
    "labels_frame = remove_nones(prep_data(pd.read_csv('data/10x_plastic_bias.csv', delimiter='\\t'), image_dir))\n"
   ]
  },
  {
   "cell_type": "code",
   "execution_count": null,
   "id": "dried-geometry",
   "metadata": {},
   "outputs": [],
   "source": [
    "#tenX = tenX_dataset(labels_frame, image_dir, transform = transform)"
   ]
  },
  {
   "cell_type": "markdown",
   "id": "australian-organizer",
   "metadata": {},
   "source": [
    "# Start of me trying to plug into cnn\n",
    "\n",
    "Most of the code came from this tutorial: https://github.com/bentrevett/pytorch-image-classification/blob/master/2_lenet.ipynb\n",
    "\n",
    "I was just trying to get this to work so I won't understand it as much"
   ]
  },
  {
   "cell_type": "code",
   "execution_count": null,
   "id": "anticipated-helen",
   "metadata": {},
   "outputs": [],
   "source": [
    "image_dir = 'data/images_10x'\n",
    "labels_frame = labels\n",
    "\n",
    "#This transform just resizes the images to 3,480,752. So 3 for red green blue then height of 480\n",
    "#and width of 752. \n",
    "transform = torchvision.transforms.Compose([\n",
    "                            torchvision.transforms.ToPILImage(),\n",
    "                            torchvision.transforms.Resize((480, 752)),\n",
    "                            torchvision.transforms.ToTensor()\n",
    "                                      ])\n",
    "\n",
    "\n",
    "train_data = tenX_dataset(labels_frame, image_dir, transform = transform)"
   ]
  },
  {
   "cell_type": "code",
   "execution_count": null,
   "id": "colored-bunch",
   "metadata": {},
   "outputs": [],
   "source": [
    "image_dir = 'data/images_10x'\n",
    "labels_frame = remove_nones(prep_data(pd.read_csv('data/10x_labels_more.csv', delimiter='\\t'), image_dir))\n",
    "transform = torchvision.transforms.Compose([\n",
    "                            torchvision.transforms.ToPILImage(),\n",
    "                            torchvision.transforms.Resize((480, 752)),\n",
    "                            torchvision.transforms.ToTensor()\n",
    "                                      ])\n",
    "\n",
    "\n",
    "train_data = tenX_dataset(labels_frame, image_dir, transform = transform)"
   ]
  },
  {
   "cell_type": "markdown",
   "id": "handed-killer",
   "metadata": {},
   "source": [
    "#### Splitting into train/validation set"
   ]
  },
  {
   "cell_type": "code",
   "execution_count": null,
   "id": "inappropriate-victory",
   "metadata": {},
   "outputs": [],
   "source": [
    "VALID_RATIO = 0.9\n",
    "\n",
    "n_train_examples = int(len(train_data) * VALID_RATIO)\n",
    "n_valid_examples = len(train_data) - n_train_examples\n",
    "\n",
    "train_data, valid_data = torch.utils.data.random_split(train_data, \n",
    "                                           [n_train_examples, n_valid_examples])"
   ]
  },
  {
   "cell_type": "code",
   "execution_count": null,
   "id": "sunrise-peace",
   "metadata": {},
   "outputs": [],
   "source": [
    "print(f'Number of training examples: {len(train_data)}')\n",
    "print(f'Number of validation examples: {len(valid_data)}')"
   ]
  },
  {
   "cell_type": "markdown",
   "id": "future-rebecca",
   "metadata": {},
   "source": [
    "#### Declaring iterator. The thing that will loop through our dataset."
   ]
  },
  {
   "cell_type": "code",
   "execution_count": null,
   "id": "related-locator",
   "metadata": {},
   "outputs": [],
   "source": [
    "BATCH_SIZE = 5\n",
    "\n",
    "train_iterator = torch.utils.data.DataLoader(train_data, \n",
    "                                 shuffle = True, \n",
    "                                 batch_size = BATCH_SIZE)\n",
    "\n",
    "valid_iterator = torch.utils.data.DataLoader(valid_data, \n",
    "                                 batch_size = BATCH_SIZE)"
   ]
  },
  {
   "cell_type": "markdown",
   "id": "first-determination",
   "metadata": {},
   "source": [
    "#### The CNN archetecture"
   ]
  },
  {
   "cell_type": "code",
   "execution_count": null,
   "id": "vulnerable-shopping",
   "metadata": {},
   "outputs": [],
   "source": [
    "class LeNet(nn.Module):\n",
    "    def __init__(self, output_dim):\n",
    "        \"\"\"\n",
    "        Initializes CNN. Here we just define layer shapes that we call in the forward func\n",
    "        \"\"\"\n",
    "        super().__init__()\n",
    "\n",
    "        #Convulution layer 1. \n",
    "        #3 input channels (for three images Red, Green, Blue)\n",
    "        #6 output channels (I THINK this means we are applying two different filters to each image\n",
    "        #3 images, two filters each, we end up with 6 'images')\n",
    "        #kernel size is I THINK telling the filters took filter each set of 5 pixels into one.\n",
    "        #So are images will shrink a little as the edges get cut off\n",
    "        self.conv1 = nn.Conv2d(in_channels = 3, \n",
    "                               out_channels = 6, \n",
    "                               kernel_size = 5)\n",
    "        \n",
    "        #Convultion layer 2. See above\n",
    "        self.conv2 = nn.Conv2d(in_channels = 6, \n",
    "                               out_channels = 12, \n",
    "                               kernel_size = 5)\n",
    "        \n",
    "        #Linear layers. These probably arent complicated but I don't follow haha\n",
    "        #I think it turning the 259740 pixel values into 6 values. Then the second layers\n",
    "        #Turns the 6 into a different 6? and then 6 into 2. I'm not sure why 2 and not 1.\n",
    "        #Seeing as the output should be a number between 0-1. Closer to 0 = not plastic,\n",
    "        #closer to 1 = plastic. But I got errors about not having enough classes when\n",
    "        #I only had 1 output neuron.\n",
    "        #TBH these linear layers I just changed based on the error messages I got.\n",
    "        self.fc_1 = nn.Linear(259740, 6)\n",
    "        self.fc_2 = nn.Linear(6, 6)\n",
    "        self.fc_3 = nn.Linear(6, 2)\n",
    "\n",
    "    def forward(self, x):\n",
    "        \"\"\"\n",
    "        Function that performs all the neural network forward calculation i.e.\n",
    "        takes image data from the input of the neural network to the output\n",
    "        \"\"\"\n",
    "\n",
    "        \n",
    "        x = self.conv1(x)\n",
    "    \n",
    "        #Gonna have to look at tutorial link.\n",
    "        x = nn.functional.max_pool2d(x, kernel_size = 2)\n",
    "        \n",
    "        x = nn.functional.relu(x)\n",
    "        \n",
    "        x = self.conv2(x)\n",
    "                \n",
    "        x = nn.functional.max_pool2d(x, kernel_size = 2)\n",
    "        \n",
    "        x = nn.functional.relu(x)\n",
    "        \n",
    "        x = x.view(x.shape[0], -1)\n",
    "                \n",
    "        h = x\n",
    "        \n",
    "        x = self.fc_1(x)\n",
    "                \n",
    "        x = nn.functional.relu(x)\n",
    "\n",
    "        x = self.fc_2(x)\n",
    "                \n",
    "        x = nn.functional.relu(x)\n",
    "\n",
    "        x = self.fc_3(x)\n",
    "        \n",
    "        return x, h"
   ]
  },
  {
   "cell_type": "code",
   "execution_count": null,
   "id": "greater-gambling",
   "metadata": {},
   "outputs": [],
   "source": [
    "#Instancing model, loss criteria, device to perform calculations on, and optimizer.\n",
    "OUTPUT_DIM = 1\n",
    "model = LeNet(OUTPUT_DIM)\n",
    "\n",
    "\n",
    "criterion = nn.CrossEntropyLoss()\n",
    "device = torch.device('cuda' if torch.cuda.is_available() else 'cpu')\n",
    "optimizer = torch.optim.Adam(model.parameters())"
   ]
  },
  {
   "cell_type": "code",
   "execution_count": null,
   "id": "sudden-cisco",
   "metadata": {},
   "outputs": [],
   "source": [
    "#Telling the model and loss function to do math on whatever device is\n",
    "model = model.to(device)\n",
    "criterion = criterion.to(device)"
   ]
  },
  {
   "cell_type": "code",
   "execution_count": null,
   "id": "smoking-pacific",
   "metadata": {},
   "outputs": [],
   "source": [
    "def calculate_accuracy(y_pred, y):\n",
    "    \"\"\"\n",
    "    Function calculate accuracy. See tutorial, may not\n",
    "    even be accurate for our model but it at least runs\n",
    "    \"\"\"\n",
    "    top_pred = y_pred.argmax(1, keepdim = True)\n",
    "    correct = top_pred.eq(y.view_as(top_pred)).sum()\n",
    "    acc = correct.float() / y.shape[0]\n",
    "    return acc"
   ]
  },
  {
   "cell_type": "code",
   "execution_count": null,
   "id": "living-letters",
   "metadata": {},
   "outputs": [],
   "source": [
    "def train(model, iterator, optimizer, criterion, device):\n",
    "    \"\"\"\n",
    "    Training loop. Takes data through NN calculates loss and adjusts NN. Repeat\n",
    "    \"\"\"\n",
    "    epoch_loss = 0\n",
    "    epoch_acc = 0\n",
    "    \n",
    "    model.train()\n",
    "    \n",
    "    #Need to add logic to skip iteration if image is None\n",
    "    for sample in iterator:  \n",
    "        \n",
    "        image = sample['image'].to(device)\n",
    "        isPlastic = sample['plastic'].to(device)\n",
    "                \n",
    "        optimizer.zero_grad()      \n",
    "        y_pred, what = model(image)\n",
    "\n",
    "        loss = criterion(y_pred, isPlastic)\n",
    "        acc = calculate_accuracy(y_pred, isPlastic)\n",
    "        loss.backward()    \n",
    "        optimizer.step()\n",
    "        \n",
    "        epoch_loss += loss.item()\n",
    "        epoch_acc += acc.item()\n",
    "        \n",
    "    return epoch_loss / len(iterator), epoch_acc / len(iterator)"
   ]
  },
  {
   "cell_type": "code",
   "execution_count": null,
   "id": "utility-uncertainty",
   "metadata": {},
   "outputs": [],
   "source": [
    "#Here the model is actually trained\n",
    "EPOCHS = 20\n",
    "\n",
    "best_valid_loss = float('inf')\n",
    "\n",
    "for epoch in range(EPOCHS):\n",
    "    \n",
    "    start_time = time.monotonic()\n",
    "    \n",
    "    train_loss, train_acc = train(model, train_iterator, optimizer, criterion, device)\n",
    "\n",
    "    \n",
    "    end_time = time.monotonic()\n",
    "\n",
    "    #epoch_mins, epoch_secs = epoch_time(start_time, end_time)\n",
    "    \n",
    "    #print(f'Epoch: {epoch+1:02} | Epoch Time: {epoch_mins}m {epoch_secs}s')\n",
    "    print(f'\\tTrain Loss: {train_loss:.3f} | Train Acc: {train_acc*100:.2f}%')\n",
    "    #print(f'\\t Val. Loss: {valid_loss:.3f} |  Val. Acc: {valid_acc*100:.2f}%')"
   ]
  },
  {
   "cell_type": "code",
   "execution_count": null,
   "id": "ongoing-cliff",
   "metadata": {},
   "outputs": [],
   "source": []
  }
 ],
 "metadata": {
  "kernelspec": {
   "display_name": "Python 3",
   "language": "python",
   "name": "python3"
  },
  "language_info": {
   "codemirror_mode": {
    "name": "ipython",
    "version": 3
   },
   "file_extension": ".py",
   "mimetype": "text/x-python",
   "name": "python",
   "nbconvert_exporter": "python",
   "pygments_lexer": "ipython3",
   "version": "3.7.10"
  }
 },
 "nbformat": 4,
 "nbformat_minor": 5
}
